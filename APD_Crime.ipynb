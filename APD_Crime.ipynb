{
 "cells": [
  {
   "cell_type": "markdown",
   "metadata": {},
   "source": [
    "# Crime statistics for the City of Atlanta between 2009 and 2017\n",
    "\n",
    "### import the necessary libraries"
   ]
  },
  {
   "cell_type": "code",
   "execution_count": 1,
   "metadata": {},
   "outputs": [
    {
     "name": "stderr",
     "output_type": "stream",
     "text": [
      "/home/windell/anaconda3/lib/python3.6/site-packages/h5py/__init__.py:36: FutureWarning: Conversion of the second argument of issubdtype from `float` to `np.floating` is deprecated. In future, it will be treated as `np.float64 == np.dtype(float).type`.\n",
      "  from ._conv import register_converters as _register_converters\n",
      "Using TensorFlow backend.\n"
     ]
    }
   ],
   "source": [
    "%matplotlib inline\n",
    "import seaborn as sns\n",
    "import matplotlib.pyplot as plt\n",
    "sns.set(style=\"ticks\", color_codes=True)\n",
    "from mpl_toolkits.basemap import Basemap\n",
    "import pandas as pd\n",
    "import numpy as np\n",
    "import keras as ks"
   ]
  },
  {
   "cell_type": "markdown",
   "metadata": {},
   "source": [
    "### get everything into a dataframe"
   ]
  },
  {
   "cell_type": "code",
   "execution_count": 2,
   "metadata": {},
   "outputs": [
    {
     "data": {
      "text/html": [
       "<div>\n",
       "<style scoped>\n",
       "    .dataframe tbody tr th:only-of-type {\n",
       "        vertical-align: middle;\n",
       "    }\n",
       "\n",
       "    .dataframe tbody tr th {\n",
       "        vertical-align: top;\n",
       "    }\n",
       "\n",
       "    .dataframe thead th {\n",
       "        text-align: right;\n",
       "    }\n",
       "</style>\n",
       "<table border=\"1\" class=\"dataframe\">\n",
       "  <thead>\n",
       "    <tr style=\"text-align: right;\">\n",
       "      <th></th>\n",
       "      <th>Report Number</th>\n",
       "      <th>Report Date</th>\n",
       "      <th>Occur Date</th>\n",
       "      <th>Occur Time</th>\n",
       "      <th>Possible Date</th>\n",
       "      <th>Possible Time</th>\n",
       "      <th>Beat</th>\n",
       "      <th>Apartment Office Prefix</th>\n",
       "      <th>Apartment Number</th>\n",
       "      <th>Location</th>\n",
       "      <th>Shift</th>\n",
       "      <th>Shift Occurence</th>\n",
       "      <th>Location Type</th>\n",
       "      <th>UCR Literal</th>\n",
       "      <th>UCR #</th>\n",
       "      <th>Neighborhood</th>\n",
       "      <th>NPU</th>\n",
       "      <th>Latitude</th>\n",
       "      <th>Longitude</th>\n",
       "    </tr>\n",
       "  </thead>\n",
       "  <tbody>\n",
       "    <tr>\n",
       "      <th>0</th>\n",
       "      <td>90010721</td>\n",
       "      <td>2009-01-01</td>\n",
       "      <td>2009-01-01</td>\n",
       "      <td>815</td>\n",
       "      <td>2009-01-01</td>\n",
       "      <td>0820</td>\n",
       "      <td>408</td>\n",
       "      <td>NaN</td>\n",
       "      <td>NaN</td>\n",
       "      <td>3030 HEADLAND DR SW</td>\n",
       "      <td>D</td>\n",
       "      <td>Day Watch</td>\n",
       "      <td>12</td>\n",
       "      <td>LARCENY-NON VEHICLE</td>\n",
       "      <td>630</td>\n",
       "      <td>Greenbriar</td>\n",
       "      <td>R</td>\n",
       "      <td>33.6884</td>\n",
       "      <td>-84.4874</td>\n",
       "    </tr>\n",
       "    <tr>\n",
       "      <th>1</th>\n",
       "      <td>90010930</td>\n",
       "      <td>2009-01-01</td>\n",
       "      <td>2009-01-01</td>\n",
       "      <td>1145</td>\n",
       "      <td>2009-01-01</td>\n",
       "      <td>1148</td>\n",
       "      <td>408</td>\n",
       "      <td>NaN</td>\n",
       "      <td>NaN</td>\n",
       "      <td>2841 GREENBRIAR PKWY</td>\n",
       "      <td>D</td>\n",
       "      <td>Day Watch</td>\n",
       "      <td>8</td>\n",
       "      <td>LARCENY-NON VEHICLE</td>\n",
       "      <td>630</td>\n",
       "      <td>Greenbriar</td>\n",
       "      <td>R</td>\n",
       "      <td>33.6885</td>\n",
       "      <td>-84.4933</td>\n",
       "    </tr>\n",
       "    <tr>\n",
       "      <th>2</th>\n",
       "      <td>90011083</td>\n",
       "      <td>2009-01-01</td>\n",
       "      <td>2009-01-01</td>\n",
       "      <td>1330</td>\n",
       "      <td>2009-01-01</td>\n",
       "      <td>1330</td>\n",
       "      <td>506</td>\n",
       "      <td>NaN</td>\n",
       "      <td>NaN</td>\n",
       "      <td>12 BROAD ST SW</td>\n",
       "      <td>D</td>\n",
       "      <td>Day Watch</td>\n",
       "      <td>9</td>\n",
       "      <td>LARCENY-NON VEHICLE</td>\n",
       "      <td>630</td>\n",
       "      <td>Downtown</td>\n",
       "      <td>M</td>\n",
       "      <td>33.7532</td>\n",
       "      <td>-84.392</td>\n",
       "    </tr>\n",
       "    <tr>\n",
       "      <th>3</th>\n",
       "      <td>90011208</td>\n",
       "      <td>2009-01-01</td>\n",
       "      <td>2009-01-01</td>\n",
       "      <td>1500</td>\n",
       "      <td>2009-01-01</td>\n",
       "      <td>1520</td>\n",
       "      <td>413</td>\n",
       "      <td>NaN</td>\n",
       "      <td>NaN</td>\n",
       "      <td>3500 MARTIN L KING JR DR SW</td>\n",
       "      <td>NaN</td>\n",
       "      <td>Unknown</td>\n",
       "      <td>8</td>\n",
       "      <td>LARCENY-NON VEHICLE</td>\n",
       "      <td>630</td>\n",
       "      <td>Adamsville</td>\n",
       "      <td>H</td>\n",
       "      <td>33.7574</td>\n",
       "      <td>-84.5028</td>\n",
       "    </tr>\n",
       "    <tr>\n",
       "      <th>4</th>\n",
       "      <td>90011218</td>\n",
       "      <td>2009-01-01</td>\n",
       "      <td>2009-01-01</td>\n",
       "      <td>1450</td>\n",
       "      <td>2009-01-01</td>\n",
       "      <td>1510</td>\n",
       "      <td>204</td>\n",
       "      <td>NaN</td>\n",
       "      <td>NaN</td>\n",
       "      <td>3393 PEACHTREE RD NE</td>\n",
       "      <td>E</td>\n",
       "      <td>Evening Watch</td>\n",
       "      <td>8</td>\n",
       "      <td>LARCENY-NON VEHICLE</td>\n",
       "      <td>630</td>\n",
       "      <td>Lenox</td>\n",
       "      <td>B</td>\n",
       "      <td>33.8468</td>\n",
       "      <td>-84.3621</td>\n",
       "    </tr>\n",
       "  </tbody>\n",
       "</table>\n",
       "</div>"
      ],
      "text/plain": [
       "  Report Number Report Date  Occur Date Occur Time Possible Date  \\\n",
       "0      90010721  2009-01-01  2009-01-01        815    2009-01-01   \n",
       "1      90010930  2009-01-01  2009-01-01       1145    2009-01-01   \n",
       "2      90011083  2009-01-01  2009-01-01       1330    2009-01-01   \n",
       "3      90011208  2009-01-01  2009-01-01       1500    2009-01-01   \n",
       "4      90011218  2009-01-01  2009-01-01       1450    2009-01-01   \n",
       "\n",
       "  Possible Time Beat Apartment Office Prefix Apartment Number  \\\n",
       "0          0820  408                     NaN              NaN   \n",
       "1          1148  408                     NaN              NaN   \n",
       "2          1330  506                     NaN              NaN   \n",
       "3          1520  413                     NaN              NaN   \n",
       "4          1510  204                     NaN              NaN   \n",
       "\n",
       "                      Location Shift Shift Occurence Location Type  \\\n",
       "0          3030 HEADLAND DR SW     D       Day Watch            12   \n",
       "1         2841 GREENBRIAR PKWY     D       Day Watch             8   \n",
       "2               12 BROAD ST SW     D       Day Watch             9   \n",
       "3  3500 MARTIN L KING JR DR SW   NaN         Unknown             8   \n",
       "4         3393 PEACHTREE RD NE     E   Evening Watch             8   \n",
       "\n",
       "           UCR Literal UCR # Neighborhood NPU Latitude Longitude  \n",
       "0  LARCENY-NON VEHICLE   630   Greenbriar   R  33.6884  -84.4874  \n",
       "1  LARCENY-NON VEHICLE   630   Greenbriar   R  33.6885  -84.4933  \n",
       "2  LARCENY-NON VEHICLE   630     Downtown   M  33.7532   -84.392  \n",
       "3  LARCENY-NON VEHICLE   630   Adamsville   H  33.7574  -84.5028  \n",
       "4  LARCENY-NON VEHICLE   630        Lenox   B  33.8468  -84.3621  "
      ]
     },
     "execution_count": 2,
     "metadata": {},
     "output_type": "execute_result"
    }
   ],
   "source": [
    "df2009 = pd.read_csv('../projects/datasets/COBRA-2009/COBRA-2009.csv', error_bad_lines=False, warn_bad_lines=False, dtype={'Report Number': int, 'Report Date' : str, 'Occur Date' : str, 'Occur Time':int, 'Possible Date':str, 'Possible Time':str, 'Beat':str, 'Apartment Office Prefix':str, 'Apartment Number':str, 'Location':str, 'Shift':str, 'Shift Occurence':str, 'Location Type':str, 'UCR Literal':str, 'UCR #':float, 'Neighborhood':str,'NPU':str, 'Latitude':float, 'Longitude':float})\n",
    "df2010 = pd.read_csv('../projects/datasets/COBRA-2010/COBRA-2010.csv', error_bad_lines=False, warn_bad_lines=False, dtype={'Report Number': str, 'Report Date' : str, 'Occur Date' : str, 'Occur Time':str, 'Possible Date':str, 'Possible Time':str, 'Beat':str, 'Apartment Office Prefix':str, 'Apartment Number':str, 'Location':str, 'Shift':str, 'Shift Occurence':str, 'Location Type':str, 'UCR Literal':str, 'UCR #':str, 'Neighborhood':str,'NPU':str, 'Latitude':str, 'Longitude':str})\n",
    "df2011 = pd.read_csv('../projects/datasets/COBRA-2011/COBRA-2011.csv', error_bad_lines=False, warn_bad_lines=False, dtype={'Report Number': str, 'Report Date' : str, 'Occur Date' : str, 'Occur Time':str, 'Possible Date':str, 'Possible Time':str, 'Beat':str, 'Apartment Office Prefix':str, 'Apartment Number':str, 'Location':str, 'Shift':str, 'Shift Occurence':str, 'Location Type':str, 'UCR Literal':str, 'UCR #':str, 'Neighborhood':str,'NPU':str, 'Latitude':str, 'Longitude':str})\n",
    "df2012 = pd.read_csv('../projects/datasets/COBRA-2012/COBRA-2012.csv', error_bad_lines=False, warn_bad_lines=False, dtype={'Report Number': str, 'Report Date' : str, 'Occur Date' : str, 'Occur Time':str, 'Possible Date':str, 'Possible Time':str, 'Beat':str, 'Apartment Office Prefix':str, 'Apartment Number':str, 'Location':str, 'Shift':str, 'Shift Occurence':str, 'Location Type':str, 'UCR Literal':str, 'UCR #':str, 'Neighborhood':str,'NPU':str, 'Latitude':str, 'Longitude':str})\n",
    "df2013 = pd.read_csv('../projects/datasets/COBRA-2013/COBRA-2013.csv', error_bad_lines=False, warn_bad_lines=False, dtype={'Report Number': str, 'Report Date' : str, 'Occur Date' : str, 'Occur Time':str, 'Possible Date':str, 'Possible Time':str, 'Beat':str, 'Apartment Office Prefix':str, 'Apartment Number':str, 'Location':str, 'Shift':str, 'Shift Occurence':str, 'Location Type':str, 'UCR Literal':str, 'UCR #':str, 'Neighborhood':str,'NPU':str, 'Latitude':str, 'Longitude':str})\n",
    "df2014 = pd.read_csv('../projects/datasets/COBRA-2014/COBRA-2014.csv', error_bad_lines=False, warn_bad_lines=False, dtype={'Report Number': str, 'Report Date' : str, 'Occur Date' : str, 'Occur Time':str, 'Possible Date':str, 'Possible Time':str, 'Beat':str, 'Apartment Office Prefix':str, 'Apartment Number':str, 'Location':str, 'Shift':str, 'Shift Occurence':str, 'Location Type':str, 'UCR Literal':str, 'UCR #':str, 'Neighborhood':str,'NPU':str, 'Latitude':str, 'Longitude':str})\n",
    "df2015 = pd.read_csv('../projects/datasets/COBRA-2015/COBRA-2015.csv', error_bad_lines=False, warn_bad_lines=False, dtype={'Report Number': int, 'Report Date' : str, 'Occur Date' : str, 'Occur Time':int, 'Possible Date':str, 'Possible Time':str, 'Beat':str, 'Apartment Office Prefix':str, 'Apartment Number':str, 'Location':str, 'Shift':str, 'Shift Occurence':str, 'Location Type':str, 'UCR Literal':str, 'UCR #':float, 'Neighborhood':str,'NPU':str, 'Latitude':float, 'Longitude':float})\n",
    "df2016 = pd.read_csv('../projects/datasets/COBRA-2016/COBRA-2016.csv', error_bad_lines=False, warn_bad_lines=False, dtype={'Report Number': int, 'Report Date' : str, 'Occur Date' : str, 'Occur Time':int, 'Possible Date':str, 'Possible Time':str, 'Beat':str, 'Apartment Office Prefix':str, 'Apartment Number':str, 'Location':str, 'Shift':str, 'Shift Occurence':str, 'Location Type':str, 'UCR Literal':str, 'UCR #':float, 'Neighborhood':str,'NPU':str, 'Latitude':float, 'Longitude':float})\n",
    "df2017 = pd.read_csv('../projects/datasets/COBRA-2017/COBRA-2017.csv', error_bad_lines=False, warn_bad_lines=False, dtype={'Report Number': int, 'Report Date' : str, 'Occur Date' : str, 'Occur Time':int, 'Possible Date':str, 'Possible Time':str, 'Beat':str, 'Apartment Office Prefix':str, 'Apartment Number':str, 'Location':str, 'Shift':str, 'Shift Occurence':str, 'Location Type':str, 'UCR Literal':str, 'UCR #':float, 'Neighborhood':str,'NPU':str, 'Latitude':float, 'Longitude':float})\n",
    "dataframes = [df2009,df2010,df2011,df2012,df2013,df2014,df2015,df2016,df2017]\n",
    "df = pd.concat(dataframes)\n",
    "df.head()"
   ]
  },
  {
   "cell_type": "markdown",
   "metadata": {},
   "source": [
    "### too many null values for 'Apartment Office Prefix' and 'Apartment Number' plus we have the location info"
   ]
  },
  {
   "cell_type": "code",
   "execution_count": 3,
   "metadata": {},
   "outputs": [],
   "source": [
    "df = df.dropna(axis=0, how='all')\n",
    "df = df.fillna(0)\n",
    "df = df.drop(['Apartment Office Prefix','Apartment Number'],axis=1)"
   ]
  },
  {
   "cell_type": "markdown",
   "metadata": {},
   "source": [
    "### this line has no useful information"
   ]
  },
  {
   "cell_type": "code",
   "execution_count": 4,
   "metadata": {},
   "outputs": [],
   "source": [
    "df = df.drop(df[df['Report Number']=='Report Number'].index)"
   ]
  },
  {
   "cell_type": "markdown",
   "metadata": {},
   "source": [
    "### \"Shift\" and \"Shift Occurence\" have the same information"
   ]
  },
  {
   "cell_type": "code",
   "execution_count": 5,
   "metadata": {},
   "outputs": [],
   "source": [
    "df = df.drop(['Shift'],axis=1)"
   ]
  },
  {
   "cell_type": "markdown",
   "metadata": {},
   "source": [
    "### attempt to change all features back to thier original datatypes"
   ]
  },
  {
   "cell_type": "code",
   "execution_count": 6,
   "metadata": {},
   "outputs": [],
   "source": [
    "df['Latitude'] = pd.to_numeric(df['Latitude'], errors = 'coerce')\n",
    "df['Longitude'] = pd.to_numeric(df['Longitude'], errors = 'coerce')\n",
    "df['Report Number'] = pd.to_numeric(df['Report Number'], downcast='integer')\n",
    "df['Occur Time'] = pd.to_numeric(df['Occur Time'], downcast='integer')\n",
    "df['Possible Time'] = pd.to_numeric(df['Possible Time'], downcast='integer')\n",
    "df['Beat'] = pd.to_numeric(df['Beat'], downcast='integer')\n",
    "#df['Location Type'] = pd.to_numeric(df['Location Type'], downcast='integer')\n",
    "df['UCR #'] = pd.to_numeric(df['UCR #'], downcast='integer')\n",
    "df['Report Date'] = pd.to_datetime(df['Report Date'])\n",
    "df['Occur Date'] = pd.to_datetime(df['Occur Date'])\n",
    "df['Possible Date'] = pd.to_datetime(df['Possible Date'])"
   ]
  },
  {
   "cell_type": "code",
   "execution_count": 7,
   "metadata": {},
   "outputs": [
    {
     "data": {
      "text/html": [
       "<div>\n",
       "<style scoped>\n",
       "    .dataframe tbody tr th:only-of-type {\n",
       "        vertical-align: middle;\n",
       "    }\n",
       "\n",
       "    .dataframe tbody tr th {\n",
       "        vertical-align: top;\n",
       "    }\n",
       "\n",
       "    .dataframe thead th {\n",
       "        text-align: right;\n",
       "    }\n",
       "</style>\n",
       "<table border=\"1\" class=\"dataframe\">\n",
       "  <thead>\n",
       "    <tr style=\"text-align: right;\">\n",
       "      <th></th>\n",
       "      <th>Report Number</th>\n",
       "      <th>Report Date</th>\n",
       "      <th>Occur Date</th>\n",
       "      <th>Occur Time</th>\n",
       "      <th>Possible Date</th>\n",
       "      <th>Possible Time</th>\n",
       "      <th>Beat</th>\n",
       "      <th>Location</th>\n",
       "      <th>Shift Occurence</th>\n",
       "      <th>Location Type</th>\n",
       "      <th>UCR Literal</th>\n",
       "      <th>UCR #</th>\n",
       "      <th>Neighborhood</th>\n",
       "      <th>NPU</th>\n",
       "      <th>Latitude</th>\n",
       "      <th>Longitude</th>\n",
       "    </tr>\n",
       "  </thead>\n",
       "  <tbody>\n",
       "    <tr>\n",
       "      <th>0</th>\n",
       "      <td>90010721</td>\n",
       "      <td>2009-01-01</td>\n",
       "      <td>2009-01-01</td>\n",
       "      <td>815</td>\n",
       "      <td>2009-01-01</td>\n",
       "      <td>820</td>\n",
       "      <td>408</td>\n",
       "      <td>3030 HEADLAND DR SW</td>\n",
       "      <td>Day Watch</td>\n",
       "      <td>12</td>\n",
       "      <td>LARCENY-NON VEHICLE</td>\n",
       "      <td>630</td>\n",
       "      <td>Greenbriar</td>\n",
       "      <td>R</td>\n",
       "      <td>33.68841</td>\n",
       "      <td>-84.48742</td>\n",
       "    </tr>\n",
       "    <tr>\n",
       "      <th>1</th>\n",
       "      <td>90010930</td>\n",
       "      <td>2009-01-01</td>\n",
       "      <td>2009-01-01</td>\n",
       "      <td>1145</td>\n",
       "      <td>2009-01-01</td>\n",
       "      <td>1148</td>\n",
       "      <td>408</td>\n",
       "      <td>2841 GREENBRIAR PKWY</td>\n",
       "      <td>Day Watch</td>\n",
       "      <td>8</td>\n",
       "      <td>LARCENY-NON VEHICLE</td>\n",
       "      <td>630</td>\n",
       "      <td>Greenbriar</td>\n",
       "      <td>R</td>\n",
       "      <td>33.68845</td>\n",
       "      <td>-84.49328</td>\n",
       "    </tr>\n",
       "    <tr>\n",
       "      <th>2</th>\n",
       "      <td>90011083</td>\n",
       "      <td>2009-01-01</td>\n",
       "      <td>2009-01-01</td>\n",
       "      <td>1330</td>\n",
       "      <td>2009-01-01</td>\n",
       "      <td>1330</td>\n",
       "      <td>506</td>\n",
       "      <td>12 BROAD ST SW</td>\n",
       "      <td>Day Watch</td>\n",
       "      <td>9</td>\n",
       "      <td>LARCENY-NON VEHICLE</td>\n",
       "      <td>630</td>\n",
       "      <td>Downtown</td>\n",
       "      <td>M</td>\n",
       "      <td>33.75320</td>\n",
       "      <td>-84.39201</td>\n",
       "    </tr>\n",
       "    <tr>\n",
       "      <th>3</th>\n",
       "      <td>90011208</td>\n",
       "      <td>2009-01-01</td>\n",
       "      <td>2009-01-01</td>\n",
       "      <td>1500</td>\n",
       "      <td>2009-01-01</td>\n",
       "      <td>1520</td>\n",
       "      <td>413</td>\n",
       "      <td>3500 MARTIN L KING JR DR SW</td>\n",
       "      <td>Unknown</td>\n",
       "      <td>8</td>\n",
       "      <td>LARCENY-NON VEHICLE</td>\n",
       "      <td>630</td>\n",
       "      <td>Adamsville</td>\n",
       "      <td>H</td>\n",
       "      <td>33.75735</td>\n",
       "      <td>-84.50282</td>\n",
       "    </tr>\n",
       "    <tr>\n",
       "      <th>4</th>\n",
       "      <td>90011218</td>\n",
       "      <td>2009-01-01</td>\n",
       "      <td>2009-01-01</td>\n",
       "      <td>1450</td>\n",
       "      <td>2009-01-01</td>\n",
       "      <td>1510</td>\n",
       "      <td>204</td>\n",
       "      <td>3393 PEACHTREE RD NE</td>\n",
       "      <td>Evening Watch</td>\n",
       "      <td>8</td>\n",
       "      <td>LARCENY-NON VEHICLE</td>\n",
       "      <td>630</td>\n",
       "      <td>Lenox</td>\n",
       "      <td>B</td>\n",
       "      <td>33.84676</td>\n",
       "      <td>-84.36212</td>\n",
       "    </tr>\n",
       "  </tbody>\n",
       "</table>\n",
       "</div>"
      ],
      "text/plain": [
       "   Report Number Report Date Occur Date  Occur Time Possible Date  \\\n",
       "0       90010721  2009-01-01 2009-01-01         815    2009-01-01   \n",
       "1       90010930  2009-01-01 2009-01-01        1145    2009-01-01   \n",
       "2       90011083  2009-01-01 2009-01-01        1330    2009-01-01   \n",
       "3       90011208  2009-01-01 2009-01-01        1500    2009-01-01   \n",
       "4       90011218  2009-01-01 2009-01-01        1450    2009-01-01   \n",
       "\n",
       "   Possible Time  Beat                     Location Shift Occurence  \\\n",
       "0            820   408          3030 HEADLAND DR SW       Day Watch   \n",
       "1           1148   408         2841 GREENBRIAR PKWY       Day Watch   \n",
       "2           1330   506               12 BROAD ST SW       Day Watch   \n",
       "3           1520   413  3500 MARTIN L KING JR DR SW         Unknown   \n",
       "4           1510   204         3393 PEACHTREE RD NE   Evening Watch   \n",
       "\n",
       "  Location Type          UCR Literal  UCR # Neighborhood NPU  Latitude  \\\n",
       "0            12  LARCENY-NON VEHICLE    630   Greenbriar   R  33.68841   \n",
       "1             8  LARCENY-NON VEHICLE    630   Greenbriar   R  33.68845   \n",
       "2             9  LARCENY-NON VEHICLE    630     Downtown   M  33.75320   \n",
       "3             8  LARCENY-NON VEHICLE    630   Adamsville   H  33.75735   \n",
       "4             8  LARCENY-NON VEHICLE    630        Lenox   B  33.84676   \n",
       "\n",
       "   Longitude  \n",
       "0  -84.48742  \n",
       "1  -84.49328  \n",
       "2  -84.39201  \n",
       "3  -84.50282  \n",
       "4  -84.36212  "
      ]
     },
     "execution_count": 7,
     "metadata": {},
     "output_type": "execute_result"
    }
   ],
   "source": [
    "df.head()"
   ]
  },
  {
   "cell_type": "markdown",
   "metadata": {},
   "source": [
    "## Let us compare top 10 Neighborhoods that have the highest number of incidences"
   ]
  },
  {
   "cell_type": "code",
   "execution_count": 8,
   "metadata": {},
   "outputs": [
    {
     "data": {
      "text/plain": [
       "<matplotlib.axes._subplots.AxesSubplot at 0x7f2d615f3ef0>"
      ]
     },
     "execution_count": 8,
     "metadata": {},
     "output_type": "execute_result"
    },
    {
     "data": {
      "image/png": "[encoded data removed]",
      "text/plain": [
       "<Figure size 1440x720 with 1 Axes>"
      ]
     },
     "metadata": {},
     "output_type": "display_data"
    }
   ],
   "source": [
    "max_neighborhood = df['Neighborhood'].value_counts()\n",
    "plt.figure(figsize=(20,10))\n",
    "max_neighborhood[0:10].plot.bar()"
   ]
  },
  {
   "cell_type": "markdown",
   "metadata": {},
   "source": [
    "## Let us compare the top 10 Uniform Crime Reports"
   ]
  },
  {
   "cell_type": "code",
   "execution_count": 9,
   "metadata": {
    "scrolled": false
   },
   "outputs": [
    {
     "data": {
      "text/plain": [
       "<matplotlib.axes._subplots.AxesSubplot at 0x7f2d5c994278>"
      ]
     },
     "execution_count": 9,
     "metadata": {},
     "output_type": "execute_result"
    },
    {
     "data": {
      "image/png": "[encoded data removed]",
      "text/plain": [
       "<Figure size 1440x720 with 1 Axes>"
      ]
     },
     "metadata": {},
     "output_type": "display_data"
    }
   ],
   "source": [
    "max_crime_types = df['UCR Literal'].value_counts()\n",
    "plt.figure(figsize=(20,10))\n",
    "max_crime_types[0:10].plot.bar()"
   ]
  },
  {
   "cell_type": "markdown",
   "metadata": {},
   "source": [
    "## From the graph we can see there are twice as many incidence that occur Downtown as compared to the Old Fourth Ward Neighborhood.  But each of the top 10 Neighborhoods have over 5000 incidences.\n",
    "## From the graph we can see you are twice as likely to have something taken from your vehicle (LARCENY-FROM VEHICLE) as compared with your vehicle being stolen (AUTO THEFT).\n",
    "## From the graph we can see you are twice as likely to have something stolen from your residence (BURGLARY-RESIDENCE) as compared with being robbed (ROBBERY-PEDESTRIAN)."
   ]
  },
  {
   "cell_type": "code",
   "execution_count": null,
   "metadata": {},
   "outputs": [],
   "source": []
  },
  {
   "cell_type": "code",
   "execution_count": null,
   "metadata": {},
   "outputs": [],
   "source": []
  }
 ],
 "metadata": {
  "kernelspec": {
   "display_name": "Python 3",
   "language": "python",
   "name": "python3"
  },
  "language_info": {
   "codemirror_mode": {
    "name": "ipython",
    "version": 3
   },
   "file_extension": ".py",
   "mimetype": "text/x-python",
   "name": "python",
   "nbconvert_exporter": "python",
   "pygments_lexer": "ipython3",
   "version": "3.6.5"
  }
 },
 "nbformat": 4,
 "nbformat_minor": 2
}
