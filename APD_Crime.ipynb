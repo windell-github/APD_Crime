{
 "cells": [
  {
   "cell_type": "markdown",
   "metadata": {},
   "source": [
    "# <b><u>Crime statistics for the City of Atlanta between 2009 and 2017</u></b>"
   ]
  },
  {
   "cell_type": "markdown",
   "metadata": {},
   "source": [
    "### import the necessary libraries"
   ]
  },
  {
   "cell_type": "code",
   "execution_count": 1,
   "metadata": {},
   "outputs": [],
   "source": [
    "%matplotlib inline\n",
    "import seaborn as sns\n",
    "import matplotlib.pyplot as plt\n",
    "sns.set(style=\"ticks\", color_codes=True)\n",
    "import pandas as pd\n",
    "import numpy as np"
   ]
  },
  {
   "cell_type": "markdown",
   "metadata": {},
   "source": [
    "# Manipulate the dataset to perform some exploratory data analysis"
   ]
  },
  {
   "cell_type": "markdown",
   "metadata": {},
   "source": [
    "### get everything into a dataframe"
   ]
  },
  {
   "cell_type": "code",
   "execution_count": 2,
   "metadata": {},
   "outputs": [
    {
     "data": {
      "text/html": [
       "<div>\n",
       "<style scoped>\n",
       "    .dataframe tbody tr th:only-of-type {\n",
       "        vertical-align: middle;\n",
       "    }\n",
       "\n",
       "    .dataframe tbody tr th {\n",
       "        vertical-align: top;\n",
       "    }\n",
       "\n",
       "    .dataframe thead th {\n",
       "        text-align: right;\n",
       "    }\n",
       "</style>\n",
       "<table border=\"1\" class=\"dataframe\">\n",
       "  <thead>\n",
       "    <tr style=\"text-align: right;\">\n",
       "      <th></th>\n",
       "      <th>index</th>\n",
       "      <th>Apartment Number</th>\n",
       "      <th>Apartment Office Prefix</th>\n",
       "      <th>Beat</th>\n",
       "      <th>Latitude</th>\n",
       "      <th>Location</th>\n",
       "      <th>Location Type</th>\n",
       "      <th>Longitude</th>\n",
       "      <th>NPU</th>\n",
       "      <th>Neighborhood</th>\n",
       "      <th>Occur Date</th>\n",
       "      <th>Occur Time</th>\n",
       "      <th>Possible Date</th>\n",
       "      <th>Possible Time</th>\n",
       "      <th>Report Date</th>\n",
       "      <th>Report Number</th>\n",
       "      <th>Shift</th>\n",
       "      <th>Shift Occurence</th>\n",
       "      <th>UCR #</th>\n",
       "      <th>UCR Literal</th>\n",
       "    </tr>\n",
       "  </thead>\n",
       "  <tbody>\n",
       "    <tr>\n",
       "      <th>0</th>\n",
       "      <td>0</td>\n",
       "      <td>NaN</td>\n",
       "      <td>NaN</td>\n",
       "      <td>408</td>\n",
       "      <td>33.6884</td>\n",
       "      <td>3030 HEADLAND DR SW</td>\n",
       "      <td>12</td>\n",
       "      <td>-84.4874</td>\n",
       "      <td>R</td>\n",
       "      <td>Greenbriar</td>\n",
       "      <td>2009-01-01</td>\n",
       "      <td>815</td>\n",
       "      <td>2009-01-01</td>\n",
       "      <td>0820</td>\n",
       "      <td>2009-01-01</td>\n",
       "      <td>90010721</td>\n",
       "      <td>D</td>\n",
       "      <td>Day Watch</td>\n",
       "      <td>630</td>\n",
       "      <td>LARCENY-NON VEHICLE</td>\n",
       "    </tr>\n",
       "    <tr>\n",
       "      <th>1</th>\n",
       "      <td>1</td>\n",
       "      <td>NaN</td>\n",
       "      <td>NaN</td>\n",
       "      <td>408</td>\n",
       "      <td>33.6885</td>\n",
       "      <td>2841 GREENBRIAR PKWY</td>\n",
       "      <td>8</td>\n",
       "      <td>-84.4933</td>\n",
       "      <td>R</td>\n",
       "      <td>Greenbriar</td>\n",
       "      <td>2009-01-01</td>\n",
       "      <td>1145</td>\n",
       "      <td>2009-01-01</td>\n",
       "      <td>1148</td>\n",
       "      <td>2009-01-01</td>\n",
       "      <td>90010930</td>\n",
       "      <td>D</td>\n",
       "      <td>Day Watch</td>\n",
       "      <td>630</td>\n",
       "      <td>LARCENY-NON VEHICLE</td>\n",
       "    </tr>\n",
       "    <tr>\n",
       "      <th>2</th>\n",
       "      <td>2</td>\n",
       "      <td>NaN</td>\n",
       "      <td>NaN</td>\n",
       "      <td>506</td>\n",
       "      <td>33.7532</td>\n",
       "      <td>12 BROAD ST SW</td>\n",
       "      <td>9</td>\n",
       "      <td>-84.392</td>\n",
       "      <td>M</td>\n",
       "      <td>Downtown</td>\n",
       "      <td>2009-01-01</td>\n",
       "      <td>1330</td>\n",
       "      <td>2009-01-01</td>\n",
       "      <td>1330</td>\n",
       "      <td>2009-01-01</td>\n",
       "      <td>90011083</td>\n",
       "      <td>D</td>\n",
       "      <td>Day Watch</td>\n",
       "      <td>630</td>\n",
       "      <td>LARCENY-NON VEHICLE</td>\n",
       "    </tr>\n",
       "    <tr>\n",
       "      <th>3</th>\n",
       "      <td>3</td>\n",
       "      <td>NaN</td>\n",
       "      <td>NaN</td>\n",
       "      <td>413</td>\n",
       "      <td>33.7574</td>\n",
       "      <td>3500 MARTIN L KING JR DR SW</td>\n",
       "      <td>8</td>\n",
       "      <td>-84.5028</td>\n",
       "      <td>H</td>\n",
       "      <td>Adamsville</td>\n",
       "      <td>2009-01-01</td>\n",
       "      <td>1500</td>\n",
       "      <td>2009-01-01</td>\n",
       "      <td>1520</td>\n",
       "      <td>2009-01-01</td>\n",
       "      <td>90011208</td>\n",
       "      <td>NaN</td>\n",
       "      <td>Unknown</td>\n",
       "      <td>630</td>\n",
       "      <td>LARCENY-NON VEHICLE</td>\n",
       "    </tr>\n",
       "    <tr>\n",
       "      <th>4</th>\n",
       "      <td>4</td>\n",
       "      <td>NaN</td>\n",
       "      <td>NaN</td>\n",
       "      <td>204</td>\n",
       "      <td>33.8468</td>\n",
       "      <td>3393 PEACHTREE RD NE</td>\n",
       "      <td>8</td>\n",
       "      <td>-84.3621</td>\n",
       "      <td>B</td>\n",
       "      <td>Lenox</td>\n",
       "      <td>2009-01-01</td>\n",
       "      <td>1450</td>\n",
       "      <td>2009-01-01</td>\n",
       "      <td>1510</td>\n",
       "      <td>2009-01-01</td>\n",
       "      <td>90011218</td>\n",
       "      <td>E</td>\n",
       "      <td>Evening Watch</td>\n",
       "      <td>630</td>\n",
       "      <td>LARCENY-NON VEHICLE</td>\n",
       "    </tr>\n",
       "  </tbody>\n",
       "</table>\n",
       "</div>"
      ],
      "text/plain": [
       "   index Apartment Number Apartment Office Prefix Beat Latitude  \\\n",
       "0      0              NaN                     NaN  408  33.6884   \n",
       "1      1              NaN                     NaN  408  33.6885   \n",
       "2      2              NaN                     NaN  506  33.7532   \n",
       "3      3              NaN                     NaN  413  33.7574   \n",
       "4      4              NaN                     NaN  204  33.8468   \n",
       "\n",
       "                      Location Location Type Longitude NPU Neighborhood  \\\n",
       "0          3030 HEADLAND DR SW            12  -84.4874   R   Greenbriar   \n",
       "1         2841 GREENBRIAR PKWY             8  -84.4933   R   Greenbriar   \n",
       "2               12 BROAD ST SW             9   -84.392   M     Downtown   \n",
       "3  3500 MARTIN L KING JR DR SW             8  -84.5028   H   Adamsville   \n",
       "4         3393 PEACHTREE RD NE             8  -84.3621   B        Lenox   \n",
       "\n",
       "   Occur Date Occur Time Possible Date Possible Time Report Date  \\\n",
       "0  2009-01-01        815    2009-01-01          0820  2009-01-01   \n",
       "1  2009-01-01       1145    2009-01-01          1148  2009-01-01   \n",
       "2  2009-01-01       1330    2009-01-01          1330  2009-01-01   \n",
       "3  2009-01-01       1500    2009-01-01          1520  2009-01-01   \n",
       "4  2009-01-01       1450    2009-01-01          1510  2009-01-01   \n",
       "\n",
       "  Report Number Shift Shift Occurence UCR #          UCR Literal  \n",
       "0      90010721     D       Day Watch   630  LARCENY-NON VEHICLE  \n",
       "1      90010930     D       Day Watch   630  LARCENY-NON VEHICLE  \n",
       "2      90011083     D       Day Watch   630  LARCENY-NON VEHICLE  \n",
       "3      90011208   NaN         Unknown   630  LARCENY-NON VEHICLE  \n",
       "4      90011218     E   Evening Watch   630  LARCENY-NON VEHICLE  "
      ]
     },
     "execution_count": 2,
     "metadata": {},
     "output_type": "execute_result"
    }
   ],
   "source": [
    "df2009 = pd.read_csv('../projects/datasets/COBRA-2009/COBRA-2009.csv', error_bad_lines=False, warn_bad_lines=False, dtype={'Report Number': int, 'Report Date' : str, 'Occur Date' : str, 'Occur Time':int, 'Possible Date':str, 'Possible Time':str, 'Beat':str, 'Apartment Office Prefix':str, 'Apartment Number':str, 'Location':str, 'Shift':str, 'Shift Occurence':str, 'Location Type':str, 'UCR Literal':str, 'UCR #':float, 'Neighborhood':str,'NPU':str, 'Latitude':float, 'Longitude':float})\n",
    "df2010 = pd.read_csv('../projects/datasets/COBRA-2010/COBRA-2010.csv', error_bad_lines=False, warn_bad_lines=False, dtype={'Report Number': str, 'Report Date' : str, 'Occur Date' : str, 'Occur Time':str, 'Possible Date':str, 'Possible Time':str, 'Beat':str, 'Apartment Office Prefix':str, 'Apartment Number':str, 'Location':str, 'Shift':str, 'Shift Occurence':str, 'Location Type':str, 'UCR Literal':str, 'UCR #':str, 'Neighborhood':str,'NPU':str, 'Latitude':str, 'Longitude':str})\n",
    "df2011 = pd.read_csv('../projects/datasets/COBRA-2011/COBRA-2011.csv', error_bad_lines=False, warn_bad_lines=False, dtype={'Report Number': str, 'Report Date' : str, 'Occur Date' : str, 'Occur Time':str, 'Possible Date':str, 'Possible Time':str, 'Beat':str, 'Apartment Office Prefix':str, 'Apartment Number':str, 'Location':str, 'Shift':str, 'Shift Occurence':str, 'Location Type':str, 'UCR Literal':str, 'UCR #':str, 'Neighborhood':str,'NPU':str, 'Latitude':str, 'Longitude':str})\n",
    "df2012 = pd.read_csv('../projects/datasets/COBRA-2012/COBRA-2012.csv', error_bad_lines=False, warn_bad_lines=False, dtype={'Report Number': str, 'Report Date' : str, 'Occur Date' : str, 'Occur Time':str, 'Possible Date':str, 'Possible Time':str, 'Beat':str, 'Apartment Office Prefix':str, 'Apartment Number':str, 'Location':str, 'Shift':str, 'Shift Occurence':str, 'Location Type':str, 'UCR Literal':str, 'UCR #':str, 'Neighborhood':str,'NPU':str, 'Latitude':str, 'Longitude':str})\n",
    "df2013 = pd.read_csv('../projects/datasets/COBRA-2013/COBRA-2013.csv', error_bad_lines=False, warn_bad_lines=False, dtype={'Report Number': str, 'Report Date' : str, 'Occur Date' : str, 'Occur Time':str, 'Possible Date':str, 'Possible Time':str, 'Beat':str, 'Apartment Office Prefix':str, 'Apartment Number':str, 'Location':str, 'Shift':str, 'Shift Occurence':str, 'Location Type':str, 'UCR Literal':str, 'UCR #':str, 'Neighborhood':str,'NPU':str, 'Latitude':str, 'Longitude':str})\n",
    "df2014 = pd.read_csv('../projects/datasets/COBRA-2014/COBRA-2014.csv', error_bad_lines=False, warn_bad_lines=False, dtype={'Report Number': str, 'Report Date' : str, 'Occur Date' : str, 'Occur Time':str, 'Possible Date':str, 'Possible Time':str, 'Beat':str, 'Apartment Office Prefix':str, 'Apartment Number':str, 'Location':str, 'Shift':str, 'Shift Occurence':str, 'Location Type':str, 'UCR Literal':str, 'UCR #':str, 'Neighborhood':str,'NPU':str, 'Latitude':str, 'Longitude':str})\n",
    "df2015 = pd.read_csv('../projects/datasets/COBRA-2015/COBRA-2015.csv', error_bad_lines=False, warn_bad_lines=False, dtype={'Report Number': int, 'Report Date' : str, 'Occur Date' : str, 'Occur Time':int, 'Possible Date':str, 'Possible Time':str, 'Beat':str, 'Apartment Office Prefix':str, 'Apartment Number':str, 'Location':str, 'Shift':str, 'Shift Occurence':str, 'Location Type':str, 'UCR Literal':str, 'UCR #':float, 'Neighborhood':str,'NPU':str, 'Latitude':float, 'Longitude':float})\n",
    "df2016 = pd.read_csv('../projects/datasets/COBRA-2016/COBRA-2016.csv', error_bad_lines=False, warn_bad_lines=False, dtype={'Report Number': int, 'Report Date' : str, 'Occur Date' : str, 'Occur Time':int, 'Possible Date':str, 'Possible Time':str, 'Beat':str, 'Apartment Office Prefix':str, 'Apartment Number':str, 'Location':str, 'Shift':str, 'Shift Occurence':str, 'Location Type':str, 'UCR Literal':str, 'UCR #':float, 'Neighborhood':str,'NPU':str, 'Latitude':float, 'Longitude':float})\n",
    "df2017 = pd.read_csv('../projects/datasets/COBRA-2017/COBRA-2017.csv', error_bad_lines=False, warn_bad_lines=False, dtype={'Report Number': int, 'Report Date' : str, 'Occur Date' : str, 'Occur Time':int, 'Possible Date':str, 'Possible Time':str, 'Beat':str, 'Apartment Office Prefix':str, 'Apartment Number':str, 'Location':str, 'Shift':str, 'Shift Occurence':str, 'Location Type':str, 'UCR Literal':str, 'UCR #':float, 'Neighborhood':str,'NPU':str, 'Latitude':float, 'Longitude':float})\n",
    "dataframes = [df2009,df2010,df2011,df2012,df2013,df2014,df2015,df2016,df2017]\n",
    "df = pd.concat(dataframes, sort=True)\n",
    "df = df.reset_index()\n",
    "df.head()"
   ]
  },
  {
   "cell_type": "markdown",
   "metadata": {},
   "source": [
    "### too many null values for 'Apartment Office Prefix' and 'Apartment Number' plus we have the location info"
   ]
  },
  {
   "cell_type": "code",
   "execution_count": 3,
   "metadata": {},
   "outputs": [],
   "source": [
    "df = df.dropna(axis=0, how='all')\n",
    "df = df.fillna(0)\n",
    "df = df.drop(['index','Apartment Office Prefix','Apartment Number'],axis=1)"
   ]
  },
  {
   "cell_type": "markdown",
   "metadata": {},
   "source": [
    "### \"Shift\" and \"Shift Occurence\" have the same information"
   ]
  },
  {
   "cell_type": "code",
   "execution_count": 4,
   "metadata": {},
   "outputs": [],
   "source": [
    "df = df.drop(['Shift'],axis=1)"
   ]
  },
  {
   "cell_type": "markdown",
   "metadata": {},
   "source": [
    "### attempt to change all features back to thier original datatypes"
   ]
  },
  {
   "cell_type": "code",
   "execution_count": 5,
   "metadata": {},
   "outputs": [],
   "source": [
    "df['Latitude'] = pd.to_numeric(df['Latitude'], errors = 'coerce')\n",
    "df['Longitude'] = pd.to_numeric(df['Longitude'], errors = 'coerce')\n",
    "df['Report Number'] = pd.to_numeric(df['Report Number'], downcast='integer')\n",
    "df['Occur Time'] = pd.to_numeric(df['Occur Time'], downcast='integer')\n",
    "df['Possible Time'] = pd.to_numeric(df['Possible Time'], downcast='integer')\n",
    "df['Beat'] = pd.to_numeric(df['Beat'], downcast='integer')\n",
    "df['UCR #'] = pd.to_numeric(df['UCR #'], downcast='integer')\n",
    "df['Report Date'] = pd.to_datetime(df['Report Date'])\n",
    "df['Occur Date'] = pd.to_datetime(df['Occur Date'])\n",
    "df['Possible Date'] = pd.to_datetime(df['Possible Date'])"
   ]
  },
  {
   "cell_type": "markdown",
   "metadata": {},
   "source": [
    "# We will begin some exploratory data analysis"
   ]
  },
  {
   "cell_type": "markdown",
   "metadata": {},
   "source": [
    "## Let us compare top 10 Neighborhoods that have the highest number of crimes"
   ]
  },
  {
   "cell_type": "code",
   "execution_count": 6,
   "metadata": {},
   "outputs": [
    {
     "data": {
      "text/plain": [
       "<matplotlib.axes._subplots.AxesSubplot at 0x7f6692258940>"
      ]
     },
     "execution_count": 6,
     "metadata": {},
     "output_type": "execute_result"
    },
    {
     "data": {
      "image/png": "[encoded data removed]",
      "text/plain": [
       "<Figure size 1440x720 with 1 Axes>"
      ]
     },
     "metadata": {},
     "output_type": "display_data"
    }
   ],
   "source": [
    "max_neighborhood = df['Neighborhood'].value_counts()\n",
    "plt.figure(figsize=(20,10))\n",
    "plt.ylabel('Crime Count')\n",
    "plt.xlabel('Neighborhood')\n",
    "plt.title('Amount of Crime by Neighborhood')\n",
    "max_neighborhood[0:10].plot.bar()"
   ]
  },
  {
   "cell_type": "markdown",
   "metadata": {},
   "source": [
    "## From the graph we can see there are twice as many incidence that occur Downtown as compared to the Old Fourth Ward Neighborhood.  But each of the top 10 Neighborhoods have over 5000 incidences."
   ]
  },
  {
   "cell_type": "markdown",
   "metadata": {},
   "source": [
    "## Let us get some more detailed location information.\n",
    "## We will make a 10x10 grid and create 100 different sectors.  We will count the amount of crime that occured in each sector and compare them."
   ]
  },
  {
   "cell_type": "code",
   "execution_count": 7,
   "metadata": {},
   "outputs": [],
   "source": [
    "ymin = min(df['Latitude'])\n",
    "ymax = max(df['Latitude'])\n",
    "xmin = min(df['Longitude'])\n",
    "xmax = max(df['Longitude'])\n",
    "lats = np.linspace(ymin, ymax, 10)\n",
    "longs = np.linspace(xmin, xmax, 10)"
   ]
  },
  {
   "cell_type": "code",
   "execution_count": 8,
   "metadata": {},
   "outputs": [],
   "source": [
    "def addSectors(df,lats,longs):\n",
    "    df['Sector'] = \"\"\n",
    "    sector = 0\n",
    "    for i in range(1,10):\n",
    "        for j in range(1,10):\n",
    "            sector = sector + 1\n",
    "            for u in range(0,len(df)):\n",
    "                if df.loc[u,'Latitude'] >= lats[j-1] and df.loc[u,'Latitude'] <= lats[j]:\n",
    "                    if df.loc[u,'Longitude'] >= longs[i-1] and df.loc[u,'Longitude'] <= longs[i]:\n",
    "                        df.at[u,'Sector'] = sector\n",
    "    return(df)"
   ]
  },
  {
   "cell_type": "code",
   "execution_count": 9,
   "metadata": {},
   "outputs": [],
   "source": [
    "df = addSectors(df, lats, longs)"
   ]
  },
  {
   "cell_type": "code",
   "execution_count": 11,
   "metadata": {},
   "outputs": [
    {
     "data": {
      "text/plain": [
       "<matplotlib.axes._subplots.AxesSubplot at 0x7f668d79d6a0>"
      ]
     },
     "execution_count": 11,
     "metadata": {},
     "output_type": "execute_result"
    },
    {
     "data": {
      "image/png": "[encoded data removed]",
      "text/plain": [
       "<Figure size 1440x720 with 1 Axes>"
      ]
     },
     "metadata": {},
     "output_type": "display_data"
    }
   ],
   "source": [
    "crime_count_by_sector = df['Sector'].value_counts()\n",
    "plt.figure(figsize=(20,10))\n",
    "plt.ylabel('Amount of Crime')\n",
    "plt.xlabel('Sector Number')\n",
    "plt.title('Amount of Crime by Sector')\n",
    "crime_count_by_sector.plot.bar()"
   ]
  },
  {
   "cell_type": "markdown",
   "metadata": {},
   "source": [
    "## Now we know the crime rate of each sector over the full time period"
   ]
  },
  {
   "cell_type": "markdown",
   "metadata": {},
   "source": [
    "## Let us see some of the areas to stay away from in order to keep safe."
   ]
  },
  {
   "cell_type": "code",
   "execution_count": 12,
   "metadata": {},
   "outputs": [],
   "source": [
    "df_high_crime_areas = df[df['Sector']==50]"
   ]
  },
  {
   "cell_type": "code",
   "execution_count": 13,
   "metadata": {},
   "outputs": [
    {
     "data": {
      "text/plain": [
       "12 BROAD ST SW                            536\n",
       "595 PIEDMONT AVE NE                       505\n",
       "349 DECATUR ST SE                         330\n",
       "265 PONCE DE LEON AVE NE                  233\n",
       "595 PIEDMONT AVE NE @PUBLIX - PIEDMONT    206\n",
       "360 MARIETTA ST NW                        174\n",
       "477 PEACHTREE ST NE                       173\n",
       "265 PEACHTREE CENTER AVE NE               172\n",
       "50 ALABAMA ST SW                          168\n",
       "275 BAKER ST NW                           165\n",
       "75 MARTIN L KING JR DR SW                 152\n",
       "207 PEACHTREE CENTER AVE NE               149\n",
       "226 COURTLAND ST NE                       146\n",
       "100 LUCKIE ST NW                          145\n",
       "400 W PEACHTREE ST NW                     142\n",
       "80 JESSE HILL JR DR SE                    142\n",
       "232 FORSYTH ST SW                         134\n",
       "123 MARIETTA ST NW                        132\n",
       "80 JESSE HILL JR DR SE @GRADY             129\n",
       "80 JESSE HILL JR DR NE                    128\n",
       "15 PEACHTREE ST SW                        126\n",
       "215 NORTH AVE NE                          120\n",
       "610 SPRING ST NW                          120\n",
       "396 PIEDMONT AVE NE                       115\n",
       "445 MARKHAM ST SW                         109\n",
       "Name: Location, dtype: int64"
      ]
     },
     "execution_count": 13,
     "metadata": {},
     "output_type": "execute_result"
    }
   ],
   "source": [
    "dfhca_count = df_high_crime_areas['Location'].value_counts()\n",
    "dfhca_count[0:25]"
   ]
  },
  {
   "cell_type": "markdown",
   "metadata": {},
   "source": [
    "## Let us compare the top 10 Uniform Crime Reports"
   ]
  },
  {
   "cell_type": "code",
   "execution_count": 14,
   "metadata": {
    "scrolled": false
   },
   "outputs": [
    {
     "data": {
      "text/plain": [
       "<matplotlib.axes._subplots.AxesSubplot at 0x7f668cade828>"
      ]
     },
     "execution_count": 14,
     "metadata": {},
     "output_type": "execute_result"
    },
    {
     "data": {
      "image/png": "[encoded data removed]",
      "text/plain": [
       "<Figure size 1440x720 with 1 Axes>"
      ]
     },
     "metadata": {},
     "output_type": "display_data"
    }
   ],
   "source": [
    "max_crime_types = df['UCR Literal'].value_counts()\n",
    "plt.figure(figsize=(20,10))\n",
    "max_crime_types[0:10].plot.bar()"
   ]
  },
  {
   "cell_type": "markdown",
   "metadata": {},
   "source": [
    "## From the graph we can see you are twice as likely to have something taken from your vehicle (LARCENY-FROM VEHICLE) as compared with your vehicle being stolen (AUTO THEFT).\n",
    "## From the graph we can see you are twice as likely to have something stolen from your residence (BURGLARY-RESIDENCE) as compared with being robbed (ROBBERY-PEDESTRIAN)."
   ]
  },
  {
   "cell_type": "markdown",
   "metadata": {},
   "source": [
    "# Let us look at the Uniform Crime Reports as a function of time"
   ]
  },
  {
   "cell_type": "code",
   "execution_count": 15,
   "metadata": {},
   "outputs": [
    {
     "data": {
      "text/html": [
       "<div>\n",
       "<style scoped>\n",
       "    .dataframe tbody tr th:only-of-type {\n",
       "        vertical-align: middle;\n",
       "    }\n",
       "\n",
       "    .dataframe tbody tr th {\n",
       "        vertical-align: top;\n",
       "    }\n",
       "\n",
       "    .dataframe thead th {\n",
       "        text-align: right;\n",
       "    }\n",
       "</style>\n",
       "<table border=\"1\" class=\"dataframe\">\n",
       "  <thead>\n",
       "    <tr style=\"text-align: right;\">\n",
       "      <th></th>\n",
       "      <th>Year</th>\n",
       "      <th>Months</th>\n",
       "      <th>Population</th>\n",
       "      <th>Violent crime total</th>\n",
       "      <th>Murder and nonnegligent Manslaughter</th>\n",
       "      <th>Legacy rape /1</th>\n",
       "      <th>Revised rape /2</th>\n",
       "      <th>Robbery</th>\n",
       "      <th>Aggravated assault</th>\n",
       "      <th>Property crime total</th>\n",
       "      <th>...</th>\n",
       "      <th>Violent Crime rate</th>\n",
       "      <th>Murder and nonnegligent manslaughter rate</th>\n",
       "      <th>Legacy rape rate /1</th>\n",
       "      <th>Revised rape rate /2</th>\n",
       "      <th>Robbery rate</th>\n",
       "      <th>Aggravated assault rate</th>\n",
       "      <th>Property crime rate</th>\n",
       "      <th>Burglary rate</th>\n",
       "      <th>Larceny-theft rate</th>\n",
       "      <th>Motor vehicle theft rate</th>\n",
       "    </tr>\n",
       "  </thead>\n",
       "  <tbody>\n",
       "    <tr>\n",
       "      <th>0</th>\n",
       "      <td>1985</td>\n",
       "      <td>12</td>\n",
       "      <td>436214</td>\n",
       "      <td>11610</td>\n",
       "      <td>145</td>\n",
       "      <td>683</td>\n",
       "      <td>NaN</td>\n",
       "      <td>4792</td>\n",
       "      <td>5990</td>\n",
       "      <td>45895</td>\n",
       "      <td>...</td>\n",
       "      <td>2661.5</td>\n",
       "      <td>33.2</td>\n",
       "      <td>156.6</td>\n",
       "      <td>NaN</td>\n",
       "      <td>1098.5</td>\n",
       "      <td>1373.2</td>\n",
       "      <td>10521.2</td>\n",
       "      <td>2795.0</td>\n",
       "      <td>6733.4</td>\n",
       "      <td>992.9</td>\n",
       "    </tr>\n",
       "    <tr>\n",
       "      <th>1</th>\n",
       "      <td>1986</td>\n",
       "      <td>12</td>\n",
       "      <td>445617</td>\n",
       "      <td>13162</td>\n",
       "      <td>186</td>\n",
       "      <td>681</td>\n",
       "      <td>NaN</td>\n",
       "      <td>5428</td>\n",
       "      <td>6867</td>\n",
       "      <td>49906</td>\n",
       "      <td>...</td>\n",
       "      <td>2953.7</td>\n",
       "      <td>41.7</td>\n",
       "      <td>152.8</td>\n",
       "      <td>NaN</td>\n",
       "      <td>1218.1</td>\n",
       "      <td>1541.0</td>\n",
       "      <td>11199.3</td>\n",
       "      <td>3019.2</td>\n",
       "      <td>6817.5</td>\n",
       "      <td>1362.6</td>\n",
       "    </tr>\n",
       "    <tr>\n",
       "      <th>2</th>\n",
       "      <td>1987</td>\n",
       "      <td>12</td>\n",
       "      <td>429953</td>\n",
       "      <td>12893</td>\n",
       "      <td>207</td>\n",
       "      <td>636</td>\n",
       "      <td>NaN</td>\n",
       "      <td>5100</td>\n",
       "      <td>6950</td>\n",
       "      <td>53998</td>\n",
       "      <td>...</td>\n",
       "      <td>2998.7</td>\n",
       "      <td>48.1</td>\n",
       "      <td>147.9</td>\n",
       "      <td>NaN</td>\n",
       "      <td>1186.2</td>\n",
       "      <td>1616.5</td>\n",
       "      <td>12559.0</td>\n",
       "      <td>3471.8</td>\n",
       "      <td>7340.1</td>\n",
       "      <td>1747.2</td>\n",
       "    </tr>\n",
       "    <tr>\n",
       "      <th>3</th>\n",
       "      <td>1988</td>\n",
       "      <td>12</td>\n",
       "      <td>444995</td>\n",
       "      <td>15911</td>\n",
       "      <td>217</td>\n",
       "      <td>721</td>\n",
       "      <td>NaN</td>\n",
       "      <td>5972</td>\n",
       "      <td>9001</td>\n",
       "      <td>62176</td>\n",
       "      <td>...</td>\n",
       "      <td>3575.5</td>\n",
       "      <td>48.8</td>\n",
       "      <td>162.0</td>\n",
       "      <td>NaN</td>\n",
       "      <td>1342.0</td>\n",
       "      <td>2022.7</td>\n",
       "      <td>13972.3</td>\n",
       "      <td>3495.8</td>\n",
       "      <td>8383.5</td>\n",
       "      <td>2093.1</td>\n",
       "    </tr>\n",
       "    <tr>\n",
       "      <th>4</th>\n",
       "      <td>1989</td>\n",
       "      <td>12</td>\n",
       "      <td>426482</td>\n",
       "      <td>16852</td>\n",
       "      <td>246</td>\n",
       "      <td>691</td>\n",
       "      <td>NaN</td>\n",
       "      <td>6796</td>\n",
       "      <td>9119</td>\n",
       "      <td>71389</td>\n",
       "      <td>...</td>\n",
       "      <td>3951.4</td>\n",
       "      <td>57.7</td>\n",
       "      <td>162.0</td>\n",
       "      <td>NaN</td>\n",
       "      <td>1593.5</td>\n",
       "      <td>2138.2</td>\n",
       "      <td>16739.0</td>\n",
       "      <td>4033.5</td>\n",
       "      <td>10002.8</td>\n",
       "      <td>2702.8</td>\n",
       "    </tr>\n",
       "  </tbody>\n",
       "</table>\n",
       "<p>5 rows × 23 columns</p>\n",
       "</div>"
      ],
      "text/plain": [
       "   Year  Months  Population  Violent crime total  \\\n",
       "0  1985      12      436214                11610   \n",
       "1  1986      12      445617                13162   \n",
       "2  1987      12      429953                12893   \n",
       "3  1988      12      444995                15911   \n",
       "4  1989      12      426482                16852   \n",
       "\n",
       "   Murder and nonnegligent Manslaughter  Legacy rape /1  Revised rape /2  \\\n",
       "0                                   145             683              NaN   \n",
       "1                                   186             681              NaN   \n",
       "2                                   207             636              NaN   \n",
       "3                                   217             721              NaN   \n",
       "4                                   246             691              NaN   \n",
       "\n",
       "   Robbery  Aggravated assault  Property crime total  \\\n",
       "0     4792                5990                 45895   \n",
       "1     5428                6867                 49906   \n",
       "2     5100                6950                 53998   \n",
       "3     5972                9001                 62176   \n",
       "4     6796                9119                 71389   \n",
       "\n",
       "             ...             Violent Crime rate  \\\n",
       "0            ...                         2661.5   \n",
       "1            ...                         2953.7   \n",
       "2            ...                         2998.7   \n",
       "3            ...                         3575.5   \n",
       "4            ...                         3951.4   \n",
       "\n",
       "   Murder and nonnegligent manslaughter rate  Legacy rape rate /1  \\\n",
       "0                                       33.2                156.6   \n",
       "1                                       41.7                152.8   \n",
       "2                                       48.1                147.9   \n",
       "3                                       48.8                162.0   \n",
       "4                                       57.7                162.0   \n",
       "\n",
       "   Revised rape rate /2  Robbery rate  Aggravated assault rate  \\\n",
       "0                   NaN        1098.5                   1373.2   \n",
       "1                   NaN        1218.1                   1541.0   \n",
       "2                   NaN        1186.2                   1616.5   \n",
       "3                   NaN        1342.0                   2022.7   \n",
       "4                   NaN        1593.5                   2138.2   \n",
       "\n",
       "   Property crime rate  Burglary rate  Larceny-theft rate  \\\n",
       "0              10521.2         2795.0              6733.4   \n",
       "1              11199.3         3019.2              6817.5   \n",
       "2              12559.0         3471.8              7340.1   \n",
       "3              13972.3         3495.8              8383.5   \n",
       "4              16739.0         4033.5             10002.8   \n",
       "\n",
       "   Motor vehicle theft rate  \n",
       "0                     992.9  \n",
       "1                    1362.6  \n",
       "2                    1747.2  \n",
       "3                    2093.1  \n",
       "4                    2702.8  \n",
       "\n",
       "[5 rows x 23 columns]"
      ]
     },
     "execution_count": 15,
     "metadata": {},
     "output_type": "execute_result"
    }
   ],
   "source": [
    "dfUCR = pd.read_csv('../projects/datasets/LocalCrimeJurisbyJuris.csv')\n",
    "dfUCR.head()"
   ]
  },
  {
   "cell_type": "code",
   "execution_count": 16,
   "metadata": {},
   "outputs": [
    {
     "data": {
      "text/plain": [
       "<matplotlib.axes._subplots.AxesSubplot at 0x7f668ca23668>"
      ]
     },
     "execution_count": 16,
     "metadata": {},
     "output_type": "execute_result"
    },
    {
     "data": {
      "image/png": "[encoded data removed]",
      "text/plain": [
       "<Figure size 1440x720 with 1 Axes>"
      ]
     },
     "metadata": {},
     "output_type": "display_data"
    }
   ],
   "source": [
    "plt.figure(figsize=(20,10))\n",
    "plt.title('UCR Violent Crime total per Year')\n",
    "sns.barplot(data=dfUCR, x = 'Year', y='Violent crime total')"
   ]
  }
 ],
 "metadata": {
  "kernelspec": {
   "display_name": "Python 3",
   "language": "python",
   "name": "python3"
  },
  "language_info": {
   "codemirror_mode": {
    "name": "ipython",
    "version": 3
   },
   "file_extension": ".py",
   "mimetype": "text/x-python",
   "name": "python",
   "nbconvert_exporter": "python",
   "pygments_lexer": "ipython3",
   "version": "3.6.5"
  }
 },
 "nbformat": 4,
 "nbformat_minor": 2
}
