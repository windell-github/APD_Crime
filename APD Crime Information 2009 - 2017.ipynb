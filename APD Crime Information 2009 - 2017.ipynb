{
 "cells": [
  {
   "cell_type": "markdown",
   "metadata": {},
   "source": [
    "# <b><u>Crime statistics for the City of Atlanta between 2009 and 2017</u></b>\n",
    "## We will perform some Exploratory Data Analysis on the APD crime statistics dataset for the years 2009 - 2017.\n",
    "## 1.  Initial dataset modifications to prepare for data visualization and analysis\n",
    "### Import the necessary libraries"
   ]
  },
  {
   "cell_type": "code",
   "execution_count": 1,
   "metadata": {},
   "outputs": [],
   "source": [
    "%matplotlib inline\n",
    "import seaborn as sns\n",
    "import matplotlib.pyplot as plt\n",
    "#sns.set(style=\"ticks\", color_codes=True)\n",
    "import pandas as pd\n",
    "import numpy as np"
   ]
  },
  {
   "cell_type": "markdown",
   "metadata": {},
   "source": [
    "### put all datasets into one Pandas dataframe"
   ]
  },
  {
   "cell_type": "code",
   "execution_count": 2,
   "metadata": {},
   "outputs": [
    {
     "data": {
      "text/html": [
       "<div>\n",
       "<style scoped>\n",
       "    .dataframe tbody tr th:only-of-type {\n",
       "        vertical-align: middle;\n",
       "    }\n",
       "\n",
       "    .dataframe tbody tr th {\n",
       "        vertical-align: top;\n",
       "    }\n",
       "\n",
       "    .dataframe thead th {\n",
       "        text-align: right;\n",
       "    }\n",
       "</style>\n",
       "<table border=\"1\" class=\"dataframe\">\n",
       "  <thead>\n",
       "    <tr style=\"text-align: right;\">\n",
       "      <th></th>\n",
       "      <th>Apartment Number</th>\n",
       "      <th>Apartment Office Prefix</th>\n",
       "      <th>Beat</th>\n",
       "      <th>Latitude</th>\n",
       "      <th>Location</th>\n",
       "      <th>Location Type</th>\n",
       "      <th>Longitude</th>\n",
       "      <th>NPU</th>\n",
       "      <th>Neighborhood</th>\n",
       "      <th>Occur Date</th>\n",
       "      <th>Occur Time</th>\n",
       "      <th>Possible Date</th>\n",
       "      <th>Possible Time</th>\n",
       "      <th>Report Date</th>\n",
       "      <th>Report Number</th>\n",
       "      <th>Shift</th>\n",
       "      <th>Shift Occurence</th>\n",
       "      <th>UCR #</th>\n",
       "      <th>UCR Literal</th>\n",
       "    </tr>\n",
       "  </thead>\n",
       "  <tbody>\n",
       "    <tr>\n",
       "      <th>0</th>\n",
       "      <td>NaN</td>\n",
       "      <td>NaN</td>\n",
       "      <td>408.0</td>\n",
       "      <td>33.68841</td>\n",
       "      <td>3030 HEADLAND DR SW</td>\n",
       "      <td>12</td>\n",
       "      <td>-84.48742</td>\n",
       "      <td>R</td>\n",
       "      <td>Greenbriar</td>\n",
       "      <td>2009-01-01</td>\n",
       "      <td>815</td>\n",
       "      <td>2009-01-01</td>\n",
       "      <td>820.0</td>\n",
       "      <td>2009-01-01</td>\n",
       "      <td>90010721</td>\n",
       "      <td>D</td>\n",
       "      <td>Day Watch</td>\n",
       "      <td>630</td>\n",
       "      <td>LARCENY-NON VEHICLE</td>\n",
       "    </tr>\n",
       "    <tr>\n",
       "      <th>1</th>\n",
       "      <td>NaN</td>\n",
       "      <td>NaN</td>\n",
       "      <td>408.0</td>\n",
       "      <td>33.68845</td>\n",
       "      <td>2841 GREENBRIAR PKWY</td>\n",
       "      <td>8</td>\n",
       "      <td>-84.49328</td>\n",
       "      <td>R</td>\n",
       "      <td>Greenbriar</td>\n",
       "      <td>2009-01-01</td>\n",
       "      <td>1145</td>\n",
       "      <td>2009-01-01</td>\n",
       "      <td>1148.0</td>\n",
       "      <td>2009-01-01</td>\n",
       "      <td>90010930</td>\n",
       "      <td>D</td>\n",
       "      <td>Day Watch</td>\n",
       "      <td>630</td>\n",
       "      <td>LARCENY-NON VEHICLE</td>\n",
       "    </tr>\n",
       "    <tr>\n",
       "      <th>2</th>\n",
       "      <td>NaN</td>\n",
       "      <td>NaN</td>\n",
       "      <td>506.0</td>\n",
       "      <td>33.75320</td>\n",
       "      <td>12 BROAD ST SW</td>\n",
       "      <td>9</td>\n",
       "      <td>-84.39201</td>\n",
       "      <td>M</td>\n",
       "      <td>Downtown</td>\n",
       "      <td>2009-01-01</td>\n",
       "      <td>1330</td>\n",
       "      <td>2009-01-01</td>\n",
       "      <td>1330.0</td>\n",
       "      <td>2009-01-01</td>\n",
       "      <td>90011083</td>\n",
       "      <td>D</td>\n",
       "      <td>Day Watch</td>\n",
       "      <td>630</td>\n",
       "      <td>LARCENY-NON VEHICLE</td>\n",
       "    </tr>\n",
       "    <tr>\n",
       "      <th>3</th>\n",
       "      <td>NaN</td>\n",
       "      <td>NaN</td>\n",
       "      <td>413.0</td>\n",
       "      <td>33.75735</td>\n",
       "      <td>3500 MARTIN L KING JR DR SW</td>\n",
       "      <td>8</td>\n",
       "      <td>-84.50282</td>\n",
       "      <td>H</td>\n",
       "      <td>Adamsville</td>\n",
       "      <td>2009-01-01</td>\n",
       "      <td>1500</td>\n",
       "      <td>2009-01-01</td>\n",
       "      <td>1520.0</td>\n",
       "      <td>2009-01-01</td>\n",
       "      <td>90011208</td>\n",
       "      <td>NaN</td>\n",
       "      <td>Unknown</td>\n",
       "      <td>630</td>\n",
       "      <td>LARCENY-NON VEHICLE</td>\n",
       "    </tr>\n",
       "    <tr>\n",
       "      <th>4</th>\n",
       "      <td>NaN</td>\n",
       "      <td>NaN</td>\n",
       "      <td>204.0</td>\n",
       "      <td>33.84676</td>\n",
       "      <td>3393 PEACHTREE RD NE</td>\n",
       "      <td>8</td>\n",
       "      <td>-84.36212</td>\n",
       "      <td>B</td>\n",
       "      <td>Lenox</td>\n",
       "      <td>2009-01-01</td>\n",
       "      <td>1450</td>\n",
       "      <td>2009-01-01</td>\n",
       "      <td>1510.0</td>\n",
       "      <td>2009-01-01</td>\n",
       "      <td>90011218</td>\n",
       "      <td>E</td>\n",
       "      <td>Evening Watch</td>\n",
       "      <td>630</td>\n",
       "      <td>LARCENY-NON VEHICLE</td>\n",
       "    </tr>\n",
       "  </tbody>\n",
       "</table>\n",
       "</div>"
      ],
      "text/plain": [
       "  Apartment Number Apartment Office Prefix   Beat  Latitude  \\\n",
       "0              NaN                     NaN  408.0  33.68841   \n",
       "1              NaN                     NaN  408.0  33.68845   \n",
       "2              NaN                     NaN  506.0  33.75320   \n",
       "3              NaN                     NaN  413.0  33.75735   \n",
       "4              NaN                     NaN  204.0  33.84676   \n",
       "\n",
       "                      Location Location Type  Longitude NPU Neighborhood  \\\n",
       "0          3030 HEADLAND DR SW            12  -84.48742   R   Greenbriar   \n",
       "1         2841 GREENBRIAR PKWY             8  -84.49328   R   Greenbriar   \n",
       "2               12 BROAD ST SW             9  -84.39201   M     Downtown   \n",
       "3  3500 MARTIN L KING JR DR SW             8  -84.50282   H   Adamsville   \n",
       "4         3393 PEACHTREE RD NE             8  -84.36212   B        Lenox   \n",
       "\n",
       "   Occur Date  Occur Time Possible Date  Possible Time Report Date  \\\n",
       "0  2009-01-01         815    2009-01-01          820.0  2009-01-01   \n",
       "1  2009-01-01        1145    2009-01-01         1148.0  2009-01-01   \n",
       "2  2009-01-01        1330    2009-01-01         1330.0  2009-01-01   \n",
       "3  2009-01-01        1500    2009-01-01         1520.0  2009-01-01   \n",
       "4  2009-01-01        1450    2009-01-01         1510.0  2009-01-01   \n",
       "\n",
       "   Report Number Shift Shift Occurence  UCR #          UCR Literal  \n",
       "0       90010721     D       Day Watch    630  LARCENY-NON VEHICLE  \n",
       "1       90010930     D       Day Watch    630  LARCENY-NON VEHICLE  \n",
       "2       90011083     D       Day Watch    630  LARCENY-NON VEHICLE  \n",
       "3       90011208   NaN         Unknown    630  LARCENY-NON VEHICLE  \n",
       "4       90011218     E   Evening Watch    630  LARCENY-NON VEHICLE  "
      ]
     },
     "execution_count": 2,
     "metadata": {},
     "output_type": "execute_result"
    }
   ],
   "source": [
    "df2009 = pd.read_csv('../projects/datasets/COBRA-2009/COBRA-2009.csv', dtype={'Location Type':str})\n",
    "df2010 = pd.read_csv('../projects/datasets/COBRA-2010/COBRA-2010.csv', dtype={'Location Type':str})\n",
    "df2011 = pd.read_csv('../projects/datasets/COBRA-2011/COBRA-2011.csv', dtype={'Location Type':str})\n",
    "df2012 = pd.read_csv('../projects/datasets/COBRA-2012/COBRA-2012.csv', dtype={'Location Type':str})\n",
    "df2013 = pd.read_csv('../projects/datasets/COBRA-2013/COBRA-2013.csv', dtype={'Location Type':str})\n",
    "df2014 = pd.read_csv('../projects/datasets/COBRA-2014/COBRA-2014.csv', dtype={'Location Type':str})\n",
    "df2015 = pd.read_csv('../projects/datasets/COBRA-2015/COBRA-2015.csv', dtype={'Location Type':str})\n",
    "df2016 = pd.read_csv('../projects/datasets/COBRA-2016/COBRA-2016.csv', dtype={'Location Type':str})\n",
    "df2017 = pd.read_csv('../projects/datasets/COBRA-2017/COBRA-2017.csv', dtype={'Location Type':str})\n",
    "dataframes = [df2009,df2010,df2011,df2012,df2013,df2014,df2015,df2016,df2017]\n",
    "df = pd.concat(dataframes, sort=True)\n",
    "df = df.reset_index(drop=True)\n",
    "df.head()"
   ]
  },
  {
   "cell_type": "markdown",
   "metadata": {},
   "source": [
    "### \"Shift\" and \"Shift Occurence\" have the same information"
   ]
  },
  {
   "cell_type": "code",
   "execution_count": 3,
   "metadata": {},
   "outputs": [],
   "source": [
    "df = df.drop(['Shift'],axis=1)"
   ]
  },
  {
   "cell_type": "markdown",
   "metadata": {},
   "source": [
    "### We will assume that NA values for \"Apartment Number\" and \"Apartment Office Prefix\" mean that the building is a stand-alone building with the address shown in \"Location.\"  Fill unknown \"Apartment Number\" and \"Apartment Office Prefix\" values with zeroes."
   ]
  },
  {
   "cell_type": "code",
   "execution_count": 4,
   "metadata": {},
   "outputs": [],
   "source": [
    "df['Apartment Number'] = df['Apartment Number'].fillna(0)\n",
    "df['Apartment Office Prefix'] = df['Apartment Office Prefix'].fillna(0)"
   ]
  },
  {
   "cell_type": "markdown",
   "metadata": {},
   "source": [
    "### Unknown \"Beat\" information will be marked with zero so we can convert it to integer values"
   ]
  },
  {
   "cell_type": "code",
   "execution_count": 5,
   "metadata": {},
   "outputs": [],
   "source": [
    "df['Beat'] = df['Beat'].fillna(0).astype('int')"
   ]
  },
  {
   "cell_type": "markdown",
   "metadata": {},
   "source": [
    "### \"Location Type\" missing values will be filled in with zero values.  \"Location\" and \"Neighborhood\" missing values will be filled in with \"Unknown\" values."
   ]
  },
  {
   "cell_type": "code",
   "execution_count": 6,
   "metadata": {},
   "outputs": [],
   "source": [
    "df['Location Type'] = df['Location Type'].fillna(0)\n",
    "df['Neighborhood'] = df['Neighborhood'].fillna('Unknown')\n",
    "df['Location'] = df['Location'].fillna('Unknown')"
   ]
  },
  {
   "cell_type": "markdown",
   "metadata": {},
   "source": [
    "### convert \"Occur Date\", \"Report Date\" and \"Possible Date\" to datetime format"
   ]
  },
  {
   "cell_type": "code",
   "execution_count": 7,
   "metadata": {},
   "outputs": [],
   "source": [
    "df['Occur Date'] = pd.to_datetime(df['Occur Date'])\n",
    "df['Report Date'] = pd.to_datetime(df['Report Date'])\n",
    "df['Possible Date'] = pd.to_datetime(df['Possible Date'])"
   ]
  },
  {
   "cell_type": "code",
   "execution_count": 8,
   "metadata": {},
   "outputs": [
    {
     "data": {
      "text/plain": [
       "Apartment Number             0\n",
       "Apartment Office Prefix      0\n",
       "Beat                         0\n",
       "Latitude                     0\n",
       "Location                     0\n",
       "Location Type                0\n",
       "Longitude                    0\n",
       "NPU                        111\n",
       "Neighborhood                 0\n",
       "Occur Date                   0\n",
       "Occur Time                   0\n",
       "Possible Date               18\n",
       "Possible Time               19\n",
       "Report Date                  0\n",
       "Report Number                0\n",
       "Shift Occurence              0\n",
       "UCR #                        0\n",
       "UCR Literal                  0\n",
       "dtype: int64"
      ]
     },
     "execution_count": 8,
     "metadata": {},
     "output_type": "execute_result"
    }
   ],
   "source": [
    "df.apply(lambda x: sum(x.isnull()),axis=0)"
   ]
  },
  {
   "cell_type": "code",
   "execution_count": 9,
   "metadata": {},
   "outputs": [
    {
     "name": "stdout",
     "output_type": "stream",
     "text": [
      "<class 'pandas.core.frame.DataFrame'>\n",
      "RangeIndex: 292268 entries, 0 to 292267\n",
      "Data columns (total 18 columns):\n",
      "Apartment Number           292268 non-null object\n",
      "Apartment Office Prefix    292268 non-null object\n",
      "Beat                       292268 non-null int64\n",
      "Latitude                   292268 non-null float64\n",
      "Location                   292268 non-null object\n",
      "Location Type              292268 non-null object\n",
      "Longitude                  292268 non-null float64\n",
      "NPU                        292157 non-null object\n",
      "Neighborhood               292268 non-null object\n",
      "Occur Date                 292268 non-null datetime64[ns]\n",
      "Occur Time                 292268 non-null int64\n",
      "Possible Date              292250 non-null datetime64[ns]\n",
      "Possible Time              292249 non-null float64\n",
      "Report Date                292268 non-null datetime64[ns]\n",
      "Report Number              292268 non-null int64\n",
      "Shift Occurence            292268 non-null object\n",
      "UCR #                      292268 non-null int64\n",
      "UCR Literal                292268 non-null object\n",
      "dtypes: datetime64[ns](3), float64(3), int64(4), object(8)\n",
      "memory usage: 40.1+ MB\n"
     ]
    }
   ],
   "source": [
    "df.info()"
   ]
  },
  {
   "cell_type": "markdown",
   "metadata": {},
   "source": [
    "## 2. Some Exploratory Data Analysis on the modified dataset\n",
    "### Is there any temporal relation to the number of crime incidents?  \n",
    "### We will create a column with only the year value of the occurence date and graph the number of crime incidents per year."
   ]
  },
  {
   "cell_type": "code",
   "execution_count": 10,
   "metadata": {},
   "outputs": [],
   "source": [
    "df['Report Year'] = df['Report Date'].dt.year"
   ]
  },
  {
   "cell_type": "code",
   "execution_count": 11,
   "metadata": {},
   "outputs": [
    {
     "data": {
      "text/plain": [
       "<matplotlib.axes._subplots.AxesSubplot at 0x7f0e327db978>"
      ]
     },
     "execution_count": 11,
     "metadata": {},
     "output_type": "execute_result"
    },
    {
     "data": {
      "image/png": "[encoded data removed]",
      "text/plain": [
       "<Figure size 720x432 with 1 Axes>"
      ]
     },
     "metadata": {},
     "output_type": "display_data"
    }
   ],
   "source": [
    "year = df['Report Year'].value_counts()\n",
    "plt.figure(figsize=(10,6))\n",
    "plt.ylabel('Number of Crime incidents')\n",
    "plt.xlabel('Report Year')\n",
    "plt.title('Number of crime incidents by Year')\n",
    "year.plot.bar()"
   ]
  },
  {
   "cell_type": "markdown",
   "metadata": {},
   "source": [
    "### Observation: So it appears that the number of crime incidents has steadily decreased since 2009.  Watching the local news programs you would not think this is the case.\n",
    "### Is there a spatial relation to the number of crime incidents?\n",
    "### We will graph the ten neighborhoods that have the highest number of crime  incidents"
   ]
  },
  {
   "cell_type": "code",
   "execution_count": 12,
   "metadata": {},
   "outputs": [
    {
     "data": {
      "text/plain": [
       "<matplotlib.axes._subplots.AxesSubplot at 0x7f0e1f65acc0>"
      ]
     },
     "execution_count": 12,
     "metadata": {},
     "output_type": "execute_result"
    },
    {
     "data": {
      "image/png": "[encoded data removed]",
      "text/plain": [
       "<Figure size 720x432 with 1 Axes>"
      ]
     },
     "metadata": {},
     "output_type": "display_data"
    }
   ],
   "source": [
    "neighborhood = df['Neighborhood'].value_counts()\n",
    "#'Unknown' is not a neighborhood.  It will be removed.\n",
    "neighborhood = neighborhood.drop('Unknown', axis=0)\n",
    "plt.figure(figsize=(10,6))\n",
    "plt.ylabel('Number of Crime incidents')\n",
    "plt.xlabel('Neighborhood')\n",
    "plt.title('Amount of Crime by Neighborhood')\n",
    "neighborhood[0:10].plot.bar()"
   ]
  },
  {
   "cell_type": "markdown",
   "metadata": {},
   "source": [
    "### Observation:  It seems that most neighborhoods have the same number of crime incidents except for the top few.  The top three neighborhoods are significantly higher than the others.  For the complete time period 2009 - 2017 you had greater than four times (4x) chance of being involved in a crime incident in the Downtown neighborhood as compared with the Vine City neighborhood.  And greater than three times (3x) chance in the Midtown neighborhood.\n",
    "### Let us combine the temporal and spatial relations from above to see if any additional information can be obtained.  We will graph the number of crime incidents for the top 5 Neighborhoods per year."
   ]
  },
  {
   "cell_type": "code",
   "execution_count": 13,
   "metadata": {},
   "outputs": [],
   "source": [
    "df_neighbor_report_year = df.groupby(['Report Year','Neighborhood']).size().unstack(fill_value=0)\n",
    "df_neighbor_report_year = df_neighbor_report_year.transpose()\n",
    "#'Unknown' is not a neighborhood.  It will be removed.\n",
    "df_neighbor_report_year = df_neighbor_report_year.drop('Unknown', axis=0)\n",
    "df_neighbor_report_year.head()\n",
    "u = list(df_neighbor_report_year.columns.values)\n",
    "df_nry = df_neighbor_report_year.nlargest(20,u)"
   ]
  },
  {
   "cell_type": "code",
   "execution_count": 14,
   "metadata": {},
   "outputs": [
    {
     "data": {
      "image/png": "[encoded data removed]",
      "text/plain": [
       "<Figure size 720x432 with 1 Axes>"
      ]
     },
     "metadata": {},
     "output_type": "display_data"
    }
   ],
   "source": [
    "width=0.5\n",
    "plt.figure(figsize=(10,6))\n",
    "p0 = plt.bar(u, list(df_nry.iloc[0,:]), width)\n",
    "p1 = plt.bar(u, list(df_nry.iloc[1,:]), width)\n",
    "p2 = plt.bar(u, list(df_nry.iloc[2,:]), width)\n",
    "p3 = plt.bar(u, list(df_nry.iloc[3,:]), width)\n",
    "p4 = plt.bar(u, list(df_nry.iloc[4,:]), width)\n",
    "\n",
    "plt.ylabel('Number of Crime incidents')\n",
    "plt.xlabel('Report Year')\n",
    "plt.title('Crime Incidents per Neighborhood for top 5 Neighborhood')\n",
    "plt.yticks(np.arange(0, 3500, 500))\n",
    "plt.legend((p0[0],p1[0],p2[0],p3[0],p4[0]), list(df_nry.index.values))\n",
    "plt.show()"
   ]
  },
  {
   "cell_type": "markdown",
   "metadata": {},
   "source": [
    "### Observation:  For the top 5 Neighborhoods it seems there is a decrease in the overall number of incidents.  But their relative ranking compared to each other is not changing.  Also, it seems that there is more of a decrease in the Downtown neighborhood than any of the other four.  For the Downtown neighborhood the number of incidents has decreased from ~3000+ to ~2000 for a ~1000+ difference.  Comparing that with the Midtown neighborhood, the decreas is ~2300 to ~1600 for a ~700 difference."
   ]
  },
  {
   "cell_type": "code",
   "execution_count": 15,
   "metadata": {},
   "outputs": [
    {
     "data": {
      "text/plain": [
       "Neighborhood\n",
       "Downtown    1361\n",
       "Midtown      829\n",
       "Name: diff, dtype: int64"
      ]
     },
     "execution_count": 15,
     "metadata": {},
     "output_type": "execute_result"
    }
   ],
   "source": [
    "df_nry['diff'] = df_nry.iloc[:,0] - df_nry.iloc[:,8]\n",
    "df_nry['diff'].iloc[0:2]"
   ]
  },
  {
   "cell_type": "markdown",
   "metadata": {},
   "source": [
    "### Let us get some more detailed location information.\n",
    "### We will make a 10x10 grid and create 100 different sectors.  We will count the amount of crime that occured in each sector and compare them."
   ]
  },
  {
   "cell_type": "code",
   "execution_count": 16,
   "metadata": {},
   "outputs": [],
   "source": [
    "ymin = min(df['Latitude'])\n",
    "ymax = max(df['Latitude'])\n",
    "xmin = min(df['Longitude'])\n",
    "xmax = max(df['Longitude'])\n",
    "lats = np.linspace(ymin, ymax, 10)\n",
    "longs = np.linspace(xmin, xmax, 10)"
   ]
  },
  {
   "cell_type": "code",
   "execution_count": 17,
   "metadata": {},
   "outputs": [],
   "source": [
    "def addSectors(df,lats,longs):\n",
    "    df['Sector'] = \"\"\n",
    "    sector = 0\n",
    "    for i in range(0,10):\n",
    "        for j in range(0,10):\n",
    "            sector = sector + 1\n",
    "            for u in range(0,len(df)):\n",
    "                if df.loc[u,'Latitude'] >= lats[j-1] and df.loc[u,'Latitude'] <= lats[j]:\n",
    "                    if df.loc[u,'Longitude'] >= longs[i-1] and df.loc[u,'Longitude'] <= longs[i]:\n",
    "                        df.at[u,'Sector'] = sector\n",
    "    return(df)"
   ]
  },
  {
   "cell_type": "code",
   "execution_count": 18,
   "metadata": {},
   "outputs": [],
   "source": [
    "df = addSectors(df, lats, longs)"
   ]
  },
  {
   "cell_type": "code",
   "execution_count": 19,
   "metadata": {},
   "outputs": [
    {
     "data": {
      "text/plain": [
       "<matplotlib.axes._subplots.AxesSubplot at 0x7f0e2ff4fc50>"
      ]
     },
     "execution_count": 19,
     "metadata": {},
     "output_type": "execute_result"
    },
    {
     "data": {
      "image/png": "[encoded data removed]",
      "text/plain": [
       "<Figure size 720x432 with 1 Axes>"
      ]
     },
     "metadata": {},
     "output_type": "display_data"
    }
   ],
   "source": [
    "crime_count_by_sector = df['Sector'].value_counts()\n",
    "plt.figure(figsize=(10,6))\n",
    "plt.ylabel('Number of Crime Incidents')\n",
    "plt.xlabel('Sector Number')\n",
    "plt.title('Number of Crime Incidents by Sector')\n",
    "crime_count_by_sector[0:25].plot.bar()"
   ]
  },
  {
   "cell_type": "markdown",
   "metadata": {},
   "source": [
    "### Now we know the crime rate of each sector over the full time period.  Let us see some of the areas to stay away from in order to keep safe."
   ]
  },
  {
   "cell_type": "code",
   "execution_count": 20,
   "metadata": {},
   "outputs": [
    {
     "data": {
      "text/plain": [
       "12 BROAD ST SW                            536\n",
       "595 PIEDMONT AVE NE                       505\n",
       "349 DECATUR ST SE                         330\n",
       "265 PONCE DE LEON AVE NE                  234\n",
       "595 PIEDMONT AVE NE @PUBLIX - PIEDMONT    206\n",
       "360 MARIETTA ST NW                        174\n",
       "477 PEACHTREE ST NE                       173\n",
       "265 PEACHTREE CENTER AVE NE               172\n",
       "50 ALABAMA ST SW                          169\n",
       "275 BAKER ST NW                           165\n",
       "Name: Location, dtype: int64"
      ]
     },
     "execution_count": 20,
     "metadata": {},
     "output_type": "execute_result"
    }
   ],
   "source": [
    "df_high_crime_areas = df[df['Sector']==crime_count_by_sector[crime_count_by_sector == max(crime_count_by_sector)].index[0]]\n",
    "dfhca_count = df_high_crime_areas['Location'].value_counts()\n",
    "dfhca_count[0:10]"
   ]
  },
  {
   "cell_type": "code",
   "execution_count": null,
   "metadata": {},
   "outputs": [],
   "source": []
  }
 ],
 "metadata": {
  "kernelspec": {
   "display_name": "Python 3",
   "language": "python",
   "name": "python3"
  },
  "language_info": {
   "codemirror_mode": {
    "name": "ipython",
    "version": 3
   },
   "file_extension": ".py",
   "mimetype": "text/x-python",
   "name": "python",
   "nbconvert_exporter": "python",
   "pygments_lexer": "ipython3",
   "version": "3.6.5"
  }
 },
 "nbformat": 4,
 "nbformat_minor": 2
}
